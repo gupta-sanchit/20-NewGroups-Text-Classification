{
 "cells": [
  {
   "cell_type": "markdown",
   "metadata": {},
   "source": [
    "## 20_NewsGroups Text Classification"
   ]
  },
  {
   "cell_type": "markdown",
   "metadata": {},
   "source": [
    "### Loading all the Files"
   ]
  },
  {
   "cell_type": "code",
   "execution_count": 1,
   "metadata": {},
   "outputs": [],
   "source": [
    "import os\n",
    "from pprint import pprint"
   ]
  },
  {
   "cell_type": "code",
   "execution_count": 2,
   "metadata": {},
   "outputs": [],
   "source": [
    "# A list containing all the Categories\n",
    "cat = ['alt.atheism','comp.graphics','comp.os.ms-windows.misc','comp.sys.ibm.pc.hardware','comp.sys.mac.hardware',\n",
    "       \n",
    "      'comp.windows.x','misc.forsale','rec.autos','rec.motorcycles','rec.sport.baseball','rec.sport.hockey',\n",
    "       \n",
    "      'sci.crypt','sci.electronics','sci.med','sci.space','soc.religion.christian','talk.politics.guns',\n",
    "       \n",
    "      'talk.politics.mideast','talk.politics.misc','talk.religion.misc'] "
   ]
  },
  {
   "cell_type": "code",
   "execution_count": 3,
   "metadata": {},
   "outputs": [],
   "source": [
    "'''\n",
    "\n",
    "Splitting all the files into training & testing\n",
    "For Training 800 Documents from each of the 20 classes are considered.\n",
    "For Testing the remaining 200 documents from each of the 20 classes are considered.\n",
    "\n",
    "''' \n",
    "current_dir = os.path.join(os.getcwd(),'Dataset')\n",
    "def get_files(loc):    \n",
    "    files = []\n",
    "    # Change the path variable below accordingly\n",
    "    path = os.path.join(current_dir,loc)\n",
    "\n",
    "    for r,d,f in os.walk(path):\n",
    "        for file in f:\n",
    "            files.append(os.path.join(r, file))\n",
    "    return files\n",
    "\n",
    "def get_all_files(cat):\n",
    "    dict_files_train = {}\n",
    "    dict_files_test = {}\n",
    "    for i in cat:\n",
    "        files = get_files(i)\n",
    "        dict_files_train[i] = files[:800]\n",
    "        dict_files_test[i] = files[800:]\n",
    "        \n",
    "    return dict_files_train,dict_files_test  \n",
    "\n",
    "files_train,files_test = get_all_files(cat)"
   ]
  },
  {
   "cell_type": "code",
   "execution_count": 4,
   "metadata": {
    "scrolled": false
   },
   "outputs": [
    {
     "name": "stdout",
     "output_type": "stream",
     "text": [
      "alt.atheism  :  800\n",
      "comp.graphics  :  800\n",
      "comp.os.ms-windows.misc  :  800\n",
      "comp.sys.ibm.pc.hardware  :  800\n",
      "comp.sys.mac.hardware  :  800\n",
      "comp.windows.x  :  800\n",
      "misc.forsale  :  800\n",
      "rec.autos  :  800\n",
      "rec.motorcycles  :  800\n",
      "rec.sport.baseball  :  800\n",
      "rec.sport.hockey  :  800\n",
      "sci.crypt  :  800\n",
      "sci.electronics  :  800\n",
      "sci.med  :  800\n",
      "sci.space  :  800\n",
      "soc.religion.christian  :  800\n",
      "talk.politics.guns  :  800\n",
      "talk.politics.mideast  :  800\n",
      "talk.politics.misc  :  800\n",
      "talk.religion.misc  :  800\n"
     ]
    }
   ],
   "source": [
    "for i in files_train.keys():\n",
    "    print(i,\" : \",len(files_train[i]))\n",
    "    "
   ]
  },
  {
   "cell_type": "code",
   "execution_count": 5,
   "metadata": {},
   "outputs": [
    {
     "name": "stdout",
     "output_type": "stream",
     "text": [
      "alt.atheism  :  200\n",
      "comp.graphics  :  200\n",
      "comp.os.ms-windows.misc  :  200\n",
      "comp.sys.ibm.pc.hardware  :  200\n",
      "comp.sys.mac.hardware  :  200\n",
      "comp.windows.x  :  200\n",
      "misc.forsale  :  200\n",
      "rec.autos  :  200\n",
      "rec.motorcycles  :  200\n",
      "rec.sport.baseball  :  200\n",
      "rec.sport.hockey  :  200\n",
      "sci.crypt  :  200\n",
      "sci.electronics  :  200\n",
      "sci.med  :  200\n",
      "sci.space  :  200\n",
      "soc.religion.christian  :  197\n",
      "talk.politics.guns  :  200\n",
      "talk.politics.mideast  :  200\n",
      "talk.politics.misc  :  200\n",
      "talk.religion.misc  :  200\n"
     ]
    }
   ],
   "source": [
    "for i in files_test.keys():\n",
    "    print(i,\" : \",len(files_test[i]))"
   ]
  },
  {
   "cell_type": "markdown",
   "metadata": {},
   "source": [
    "### Preparing Vocabulary"
   ]
  },
  {
   "cell_type": "code",
   "execution_count": 6,
   "metadata": {},
   "outputs": [],
   "source": [
    "from tqdm import tqdm_notebook\n",
    "import re\n",
    "def get_words(f_path):\n",
    "    '''\n",
    "     This funtion returns a list of all the words present in the document.\n",
    "     \n",
    "     Input : path of file\n",
    "     Output : list of words \n",
    "     \n",
    "    '''\n",
    "    f_path = f_path\n",
    "    with open(f_path,'r',encoding='palmos') as f:\n",
    "        text = f.read()\n",
    "    # Replacing Useless Characters with blank spaces    \n",
    "    text = re.sub('[\\$\"]','',text)\n",
    "    \n",
    "    text = text.replace(\"\\n\",\"\")\n",
    "    text = text.replace(\"0\",\" \")\n",
    "    text = text.replace(\"1\",\" \")\n",
    "    text = text.replace(\"2\",\" \")\n",
    "    text = text.replace(\"3\",\" \")\n",
    "    text = text.replace(\"4\",\" \")\n",
    "    text = text.replace(\"5\",\" \")\n",
    "    text = text.replace(\"6\",\" \")\n",
    "    text = text.replace(\"7\",\" \")\n",
    "    text = text.replace(\"8\",\" \")\n",
    "    text = text.replace(\"9\",\" \")\n",
    "    \n",
    "    text = text.replace(\"#\",\" \")\n",
    "    text = text.replace(\"!\",\" \")\n",
    "    text = text.replace(\"`\",\" \")\n",
    "    text = text.replace(\"~\",\" \")\n",
    "    text = text.replace(\"-\",\" \")\n",
    "    text = text.replace(\"/\",\" \")\n",
    "    text = text.replace(\"|\",\" \")\n",
    "    text = text.replace(\",\",\" \")\n",
    "    text = text.replace(\"[\",\" \")\n",
    "    text = text.replace(\"]\",\" \")\n",
    "    text = text.replace(\"_\",\" \")\n",
    "    text = text.replace(\"=\",\" \")\n",
    "    text = text.replace(\"^\",\" \")\n",
    "    text = text.replace(\"*\",\" \")\n",
    "    text = text.replace(\"+\",\" \")\n",
    "    text = text.replace(\"&\",\" \")\n",
    "    text = text.replace(\";\",\" \")\n",
    "    \n",
    "    \n",
    "    text = text.replace(\"\\t\",\"\")\n",
    "    text = text.replace(\"(\",\" \")\n",
    "    text = text.replace(\")\",\" \")\n",
    "    text = text.replace(\"<\",\" \")\n",
    "    text = text.replace(\">\",\" \")\n",
    "    text = text.replace(\"?\",\" \")\n",
    "    text = text.replace(\"!\",\" \")\n",
    "    text = text.replace(':' ,\" \")\n",
    "    text = text.replace('.' ,\" \")\n",
    "    \n",
    "    # Splitting the text by space inorder to get individual word in an array\n",
    "    words = text.split(\" \")\n",
    "    words = [x.upper() for x in words if x!='']\n",
    "    \n",
    "    #Removing Stop Words\n",
    "    \n",
    "    from nltk.corpus import stopwords\n",
    "    \n",
    "    sw = stopwords.words('english')\n",
    "    sw = [i.upper() for i in sw]\n",
    "    words = set(words) - set(sw)\n",
    "    \n",
    "    return list(words)\n",
    "\n",
    "def get_count(words):\n",
    "    '''\n",
    "     This function Returns the count of each words present in the document.\n",
    "     \n",
    "     Input : list of words\n",
    "     Output : a dictionary having key as word and value as count of the word\n",
    "     \n",
    "    '''\n",
    "    word_dict = {}\n",
    "    #Initialising Count of each word to be zero\n",
    "    for i in set(words):\n",
    "        word_dict[i] = 0\n",
    "    for i in words:\n",
    "        if i in word_dict.keys():\n",
    "            word_dict[i]+=1\n",
    "    return word_dict        \n",
    "\n",
    "def main(files):\n",
    "    '''\n",
    "    \n",
    "      This is the main function that calls all the above functions and builds the Vocabulary.\n",
    "      \n",
    "    '''\n",
    "    all_words = []\n",
    "    all_words_dict = {}\n",
    "    \n",
    "    for i in tqdm_notebook(cat):        \n",
    "        for j in files[i]:\n",
    "            words = get_words(j)\n",
    "            all_words+= words\n",
    "            \n",
    "    all_words_dict = get_count(all_words)    \n",
    "    print(\"Total Number of Words in Vocabulary: \", len(all_words))    \n",
    "    return all_words_dict"
   ]
  },
  {
   "cell_type": "code",
   "execution_count": 7,
   "metadata": {
    "scrolled": true
   },
   "outputs": [
    {
     "data": {
      "application/vnd.jupyter.widget-view+json": {
       "model_id": "8a97916db99049c595c41318bc8030a0",
       "version_major": 2,
       "version_minor": 0
      },
      "text/plain": [
       "HBox(children=(IntProgress(value=0, max=20), HTML(value='')))"
      ]
     },
     "metadata": {},
     "output_type": "display_data"
    },
    {
     "name": "stdout",
     "output_type": "stream",
     "text": [
      "\n",
      "Total Number of Words in Vocabulary:  2467466\n"
     ]
    }
   ],
   "source": [
    "vocabulary_train = main(files_train)"
   ]
  },
  {
   "cell_type": "code",
   "execution_count": 8,
   "metadata": {},
   "outputs": [],
   "source": [
    "# Considering only those words having count greater than 200\n",
    "vocab = {}\n",
    "for i in vocabulary_train:\n",
    "    if vocabulary_train[i] >= 200:\n",
    "        vocab[i] = vocabulary_train[i]"
   ]
  },
  {
   "cell_type": "code",
   "execution_count": 9,
   "metadata": {},
   "outputs": [],
   "source": [
    "vocabulary_sorted_train = [i for i in vocab if len(i)>1]"
   ]
  },
  {
   "cell_type": "code",
   "execution_count": 10,
   "metadata": {},
   "outputs": [
    {
     "data": {
      "text/plain": [
       "1697"
      ]
     },
     "execution_count": 10,
     "metadata": {},
     "output_type": "execute_result"
    }
   ],
   "source": [
    "len(vocabulary_sorted_train)"
   ]
  },
  {
   "cell_type": "markdown",
   "metadata": {},
   "source": [
    "### Preparing Dataset"
   ]
  },
  {
   "cell_type": "code",
   "execution_count": 11,
   "metadata": {},
   "outputs": [],
   "source": [
    "import pandas as pd"
   ]
  },
  {
   "cell_type": "code",
   "execution_count": 12,
   "metadata": {},
   "outputs": [],
   "source": [
    "index_train = range(1,16000+1)\n",
    "index_test = range(1,3997+1)\n",
    "# Training Dataset\n",
    "x_train = pd.DataFrame(index = index_train, columns = vocabulary_sorted_train)\n",
    "y_train = pd.DataFrame(index = index_train, columns = ['Class'])\n",
    "\n",
    "# Testing Dataset\n",
    "x_test = pd.DataFrame(index = index_test, columns = vocabulary_sorted_train)\n",
    "y_test = pd.DataFrame(index = index_test, columns = ['Class'])\n",
    "\n",
    "x_train.fillna(0,inplace = True)\n",
    "x_test.fillna(0,inplace = True)\n"
   ]
  },
  {
   "cell_type": "code",
   "execution_count": 13,
   "metadata": {
    "scrolled": true
   },
   "outputs": [
    {
     "name": "stdout",
     "output_type": "stream",
     "text": [
      "Training Data\n",
      "Processing Class :  1  :  alt.atheism\n"
     ]
    },
    {
     "data": {
      "application/vnd.jupyter.widget-view+json": {
       "model_id": "7f6dc294d3f54411bbe5070eade96aaf",
       "version_major": 2,
       "version_minor": 0
      },
      "text/plain": [
       "HBox(children=(IntProgress(value=0, max=800), HTML(value='')))"
      ]
     },
     "metadata": {},
     "output_type": "display_data"
    },
    {
     "name": "stdout",
     "output_type": "stream",
     "text": [
      "\n",
      "Processing Class :  2  :  comp.graphics\n"
     ]
    },
    {
     "data": {
      "application/vnd.jupyter.widget-view+json": {
       "model_id": "95857110a464412eb917807509b86e6a",
       "version_major": 2,
       "version_minor": 0
      },
      "text/plain": [
       "HBox(children=(IntProgress(value=0, max=800), HTML(value='')))"
      ]
     },
     "metadata": {},
     "output_type": "display_data"
    },
    {
     "name": "stdout",
     "output_type": "stream",
     "text": [
      "\n",
      "Processing Class :  3  :  comp.os.ms-windows.misc\n"
     ]
    },
    {
     "data": {
      "application/vnd.jupyter.widget-view+json": {
       "model_id": "474ee9286d794653a71798c343c8de98",
       "version_major": 2,
       "version_minor": 0
      },
      "text/plain": [
       "HBox(children=(IntProgress(value=0, max=800), HTML(value='')))"
      ]
     },
     "metadata": {},
     "output_type": "display_data"
    },
    {
     "name": "stdout",
     "output_type": "stream",
     "text": [
      "\n",
      "Processing Class :  4  :  comp.sys.ibm.pc.hardware\n"
     ]
    },
    {
     "data": {
      "application/vnd.jupyter.widget-view+json": {
       "model_id": "4da66b4b78204392af6f2991e6e069d2",
       "version_major": 2,
       "version_minor": 0
      },
      "text/plain": [
       "HBox(children=(IntProgress(value=0, max=800), HTML(value='')))"
      ]
     },
     "metadata": {},
     "output_type": "display_data"
    },
    {
     "name": "stdout",
     "output_type": "stream",
     "text": [
      "\n",
      "Processing Class :  5  :  comp.sys.mac.hardware\n"
     ]
    },
    {
     "data": {
      "application/vnd.jupyter.widget-view+json": {
       "model_id": "0e3b1e51a28340ccad5d98c2e4e69396",
       "version_major": 2,
       "version_minor": 0
      },
      "text/plain": [
       "HBox(children=(IntProgress(value=0, max=800), HTML(value='')))"
      ]
     },
     "metadata": {},
     "output_type": "display_data"
    },
    {
     "name": "stdout",
     "output_type": "stream",
     "text": [
      "\n",
      "Processing Class :  6  :  comp.windows.x\n"
     ]
    },
    {
     "data": {
      "application/vnd.jupyter.widget-view+json": {
       "model_id": "ffbe01fa73eb445e978216b6135d2141",
       "version_major": 2,
       "version_minor": 0
      },
      "text/plain": [
       "HBox(children=(IntProgress(value=0, max=800), HTML(value='')))"
      ]
     },
     "metadata": {},
     "output_type": "display_data"
    },
    {
     "name": "stdout",
     "output_type": "stream",
     "text": [
      "\n",
      "Processing Class :  7  :  misc.forsale\n"
     ]
    },
    {
     "data": {
      "application/vnd.jupyter.widget-view+json": {
       "model_id": "b15cf4593c0c49668a050ce016049b2a",
       "version_major": 2,
       "version_minor": 0
      },
      "text/plain": [
       "HBox(children=(IntProgress(value=0, max=800), HTML(value='')))"
      ]
     },
     "metadata": {},
     "output_type": "display_data"
    },
    {
     "name": "stdout",
     "output_type": "stream",
     "text": [
      "\n",
      "Processing Class :  8  :  rec.autos\n"
     ]
    },
    {
     "data": {
      "application/vnd.jupyter.widget-view+json": {
       "model_id": "f910495a8a954ba7b67bebf98eb60ffd",
       "version_major": 2,
       "version_minor": 0
      },
      "text/plain": [
       "HBox(children=(IntProgress(value=0, max=800), HTML(value='')))"
      ]
     },
     "metadata": {},
     "output_type": "display_data"
    },
    {
     "name": "stdout",
     "output_type": "stream",
     "text": [
      "\n",
      "Processing Class :  9  :  rec.motorcycles\n"
     ]
    },
    {
     "data": {
      "application/vnd.jupyter.widget-view+json": {
       "model_id": "716c5ac8287d4d09acdf6608f3b584c6",
       "version_major": 2,
       "version_minor": 0
      },
      "text/plain": [
       "HBox(children=(IntProgress(value=0, max=800), HTML(value='')))"
      ]
     },
     "metadata": {},
     "output_type": "display_data"
    },
    {
     "name": "stdout",
     "output_type": "stream",
     "text": [
      "\n",
      "Processing Class :  10  :  rec.sport.baseball\n"
     ]
    },
    {
     "data": {
      "application/vnd.jupyter.widget-view+json": {
       "model_id": "2ad48dc34c894b4bb0a84036bf5c69e6",
       "version_major": 2,
       "version_minor": 0
      },
      "text/plain": [
       "HBox(children=(IntProgress(value=0, max=800), HTML(value='')))"
      ]
     },
     "metadata": {},
     "output_type": "display_data"
    },
    {
     "name": "stdout",
     "output_type": "stream",
     "text": [
      "\n",
      "Processing Class :  11  :  rec.sport.hockey\n"
     ]
    },
    {
     "data": {
      "application/vnd.jupyter.widget-view+json": {
       "model_id": "a8ac74c74ca7470cadd4d22dbb4daf2a",
       "version_major": 2,
       "version_minor": 0
      },
      "text/plain": [
       "HBox(children=(IntProgress(value=0, max=800), HTML(value='')))"
      ]
     },
     "metadata": {},
     "output_type": "display_data"
    },
    {
     "name": "stdout",
     "output_type": "stream",
     "text": [
      "\n",
      "Processing Class :  12  :  sci.crypt\n"
     ]
    },
    {
     "data": {
      "application/vnd.jupyter.widget-view+json": {
       "model_id": "3de7321210554b1f9402a68d03e9d671",
       "version_major": 2,
       "version_minor": 0
      },
      "text/plain": [
       "HBox(children=(IntProgress(value=0, max=800), HTML(value='')))"
      ]
     },
     "metadata": {},
     "output_type": "display_data"
    },
    {
     "name": "stdout",
     "output_type": "stream",
     "text": [
      "\n",
      "Processing Class :  13  :  sci.electronics\n"
     ]
    },
    {
     "data": {
      "application/vnd.jupyter.widget-view+json": {
       "model_id": "7e50ba7646494a768e7bc9dfa4b8da11",
       "version_major": 2,
       "version_minor": 0
      },
      "text/plain": [
       "HBox(children=(IntProgress(value=0, max=800), HTML(value='')))"
      ]
     },
     "metadata": {},
     "output_type": "display_data"
    },
    {
     "name": "stdout",
     "output_type": "stream",
     "text": [
      "\n",
      "Processing Class :  14  :  sci.med\n"
     ]
    },
    {
     "data": {
      "application/vnd.jupyter.widget-view+json": {
       "model_id": "8ec8a7a93eea4286a5c7ef67c462659f",
       "version_major": 2,
       "version_minor": 0
      },
      "text/plain": [
       "HBox(children=(IntProgress(value=0, max=800), HTML(value='')))"
      ]
     },
     "metadata": {},
     "output_type": "display_data"
    },
    {
     "name": "stdout",
     "output_type": "stream",
     "text": [
      "\n",
      "Processing Class :  15  :  sci.space\n"
     ]
    },
    {
     "data": {
      "application/vnd.jupyter.widget-view+json": {
       "model_id": "9d4c81339f5c47f2a4f71c2bfb81137a",
       "version_major": 2,
       "version_minor": 0
      },
      "text/plain": [
       "HBox(children=(IntProgress(value=0, max=800), HTML(value='')))"
      ]
     },
     "metadata": {},
     "output_type": "display_data"
    },
    {
     "name": "stdout",
     "output_type": "stream",
     "text": [
      "\n",
      "Processing Class :  16  :  soc.religion.christian\n"
     ]
    },
    {
     "data": {
      "application/vnd.jupyter.widget-view+json": {
       "model_id": "46bd396696b441ceb8904a08a9bfd8aa",
       "version_major": 2,
       "version_minor": 0
      },
      "text/plain": [
       "HBox(children=(IntProgress(value=0, max=800), HTML(value='')))"
      ]
     },
     "metadata": {},
     "output_type": "display_data"
    },
    {
     "name": "stdout",
     "output_type": "stream",
     "text": [
      "\n",
      "Processing Class :  17  :  talk.politics.guns\n"
     ]
    },
    {
     "data": {
      "application/vnd.jupyter.widget-view+json": {
       "model_id": "0411ea64db49414383ad0aea8e187057",
       "version_major": 2,
       "version_minor": 0
      },
      "text/plain": [
       "HBox(children=(IntProgress(value=0, max=800), HTML(value='')))"
      ]
     },
     "metadata": {},
     "output_type": "display_data"
    },
    {
     "name": "stdout",
     "output_type": "stream",
     "text": [
      "\n",
      "Processing Class :  18  :  talk.politics.mideast\n"
     ]
    },
    {
     "data": {
      "application/vnd.jupyter.widget-view+json": {
       "model_id": "ee498c3e5fbe43ad9e91f1b64493d72a",
       "version_major": 2,
       "version_minor": 0
      },
      "text/plain": [
       "HBox(children=(IntProgress(value=0, max=800), HTML(value='')))"
      ]
     },
     "metadata": {},
     "output_type": "display_data"
    },
    {
     "name": "stdout",
     "output_type": "stream",
     "text": [
      "\n",
      "Processing Class :  19  :  talk.politics.misc\n"
     ]
    },
    {
     "data": {
      "application/vnd.jupyter.widget-view+json": {
       "model_id": "a9ed06a3ea8d43a09ed14c8f13b5ef74",
       "version_major": 2,
       "version_minor": 0
      },
      "text/plain": [
       "HBox(children=(IntProgress(value=0, max=800), HTML(value='')))"
      ]
     },
     "metadata": {},
     "output_type": "display_data"
    },
    {
     "name": "stdout",
     "output_type": "stream",
     "text": [
      "\n",
      "Processing Class :  20  :  talk.religion.misc\n"
     ]
    },
    {
     "data": {
      "application/vnd.jupyter.widget-view+json": {
       "model_id": "49c790ce6b1d4468a86bd17ab3888710",
       "version_major": 2,
       "version_minor": 0
      },
      "text/plain": [
       "HBox(children=(IntProgress(value=0, max=800), HTML(value='')))"
      ]
     },
     "metadata": {},
     "output_type": "display_data"
    },
    {
     "name": "stdout",
     "output_type": "stream",
     "text": [
      "\n"
     ]
    }
   ],
   "source": [
    "# Training Dataset\n",
    "\n",
    "from tqdm import tqdm_notebook\n",
    "print(\"Training Data\")\n",
    "f1 = 0\n",
    "counter1 = 0\n",
    "for i in files_train:\n",
    "    f1+=1\n",
    "    print(\"Processing Class : \",f1,\" : \",i)\n",
    "    classes = i\n",
    "    file_no = 0\n",
    "    for file in tqdm_notebook(files_train[classes]):\n",
    "        file_no+=1\n",
    "        counter1+=1\n",
    "        y_train['Class'][counter1] = classes\n",
    "        words_in_file = get_words(file)\n",
    "        for word in words_in_file:\n",
    "            if word in vocabulary_sorted_train:\n",
    "                x_train[word][counter1]+=1"
   ]
  },
  {
   "cell_type": "code",
   "execution_count": 14,
   "metadata": {},
   "outputs": [
    {
     "name": "stdout",
     "output_type": "stream",
     "text": [
      "Testing Data\n",
      "Processing Class :  1  :  alt.atheism\n"
     ]
    },
    {
     "data": {
      "application/vnd.jupyter.widget-view+json": {
       "model_id": "d12f9f906e97457fa1d59ba368b48a5a",
       "version_major": 2,
       "version_minor": 0
      },
      "text/plain": [
       "HBox(children=(IntProgress(value=0, max=200), HTML(value='')))"
      ]
     },
     "metadata": {},
     "output_type": "display_data"
    },
    {
     "name": "stdout",
     "output_type": "stream",
     "text": [
      "\n",
      "Processing Class :  2  :  comp.graphics\n"
     ]
    },
    {
     "data": {
      "application/vnd.jupyter.widget-view+json": {
       "model_id": "6025bab0e3f842a8a2f9327c40bf1a58",
       "version_major": 2,
       "version_minor": 0
      },
      "text/plain": [
       "HBox(children=(IntProgress(value=0, max=200), HTML(value='')))"
      ]
     },
     "metadata": {},
     "output_type": "display_data"
    },
    {
     "name": "stdout",
     "output_type": "stream",
     "text": [
      "\n",
      "Processing Class :  3  :  comp.os.ms-windows.misc\n"
     ]
    },
    {
     "data": {
      "application/vnd.jupyter.widget-view+json": {
       "model_id": "9f7de279380e40b1bc4853bbf14eaaa1",
       "version_major": 2,
       "version_minor": 0
      },
      "text/plain": [
       "HBox(children=(IntProgress(value=0, max=200), HTML(value='')))"
      ]
     },
     "metadata": {},
     "output_type": "display_data"
    },
    {
     "name": "stdout",
     "output_type": "stream",
     "text": [
      "\n",
      "Processing Class :  4  :  comp.sys.ibm.pc.hardware\n"
     ]
    },
    {
     "data": {
      "application/vnd.jupyter.widget-view+json": {
       "model_id": "3413bd01b4f945b6bbff63b9efe3061c",
       "version_major": 2,
       "version_minor": 0
      },
      "text/plain": [
       "HBox(children=(IntProgress(value=0, max=200), HTML(value='')))"
      ]
     },
     "metadata": {},
     "output_type": "display_data"
    },
    {
     "name": "stdout",
     "output_type": "stream",
     "text": [
      "\n",
      "Processing Class :  5  :  comp.sys.mac.hardware\n"
     ]
    },
    {
     "data": {
      "application/vnd.jupyter.widget-view+json": {
       "model_id": "3bf36aab772a49b58b68274906d31ae2",
       "version_major": 2,
       "version_minor": 0
      },
      "text/plain": [
       "HBox(children=(IntProgress(value=0, max=200), HTML(value='')))"
      ]
     },
     "metadata": {},
     "output_type": "display_data"
    },
    {
     "name": "stdout",
     "output_type": "stream",
     "text": [
      "\n",
      "Processing Class :  6  :  comp.windows.x\n"
     ]
    },
    {
     "data": {
      "application/vnd.jupyter.widget-view+json": {
       "model_id": "4c969ea90e924456a8ec3e79efefc315",
       "version_major": 2,
       "version_minor": 0
      },
      "text/plain": [
       "HBox(children=(IntProgress(value=0, max=200), HTML(value='')))"
      ]
     },
     "metadata": {},
     "output_type": "display_data"
    },
    {
     "name": "stdout",
     "output_type": "stream",
     "text": [
      "\n",
      "Processing Class :  7  :  misc.forsale\n"
     ]
    },
    {
     "data": {
      "application/vnd.jupyter.widget-view+json": {
       "model_id": "4700dc614c99431c98d97a7461f94de7",
       "version_major": 2,
       "version_minor": 0
      },
      "text/plain": [
       "HBox(children=(IntProgress(value=0, max=200), HTML(value='')))"
      ]
     },
     "metadata": {},
     "output_type": "display_data"
    },
    {
     "name": "stdout",
     "output_type": "stream",
     "text": [
      "\n",
      "Processing Class :  8  :  rec.autos\n"
     ]
    },
    {
     "data": {
      "application/vnd.jupyter.widget-view+json": {
       "model_id": "395aed5f00ac4829a96911a07fb1fece",
       "version_major": 2,
       "version_minor": 0
      },
      "text/plain": [
       "HBox(children=(IntProgress(value=0, max=200), HTML(value='')))"
      ]
     },
     "metadata": {},
     "output_type": "display_data"
    },
    {
     "name": "stdout",
     "output_type": "stream",
     "text": [
      "\n",
      "Processing Class :  9  :  rec.motorcycles\n"
     ]
    },
    {
     "data": {
      "application/vnd.jupyter.widget-view+json": {
       "model_id": "b7322a06ff53425aaabc28fad10c1eb8",
       "version_major": 2,
       "version_minor": 0
      },
      "text/plain": [
       "HBox(children=(IntProgress(value=0, max=200), HTML(value='')))"
      ]
     },
     "metadata": {},
     "output_type": "display_data"
    },
    {
     "name": "stdout",
     "output_type": "stream",
     "text": [
      "\n",
      "Processing Class :  10  :  rec.sport.baseball\n"
     ]
    },
    {
     "data": {
      "application/vnd.jupyter.widget-view+json": {
       "model_id": "96e3ba6e3b5041b0a907e9ae1bcf5f8b",
       "version_major": 2,
       "version_minor": 0
      },
      "text/plain": [
       "HBox(children=(IntProgress(value=0, max=200), HTML(value='')))"
      ]
     },
     "metadata": {},
     "output_type": "display_data"
    },
    {
     "name": "stdout",
     "output_type": "stream",
     "text": [
      "\n",
      "Processing Class :  11  :  rec.sport.hockey\n"
     ]
    },
    {
     "data": {
      "application/vnd.jupyter.widget-view+json": {
       "model_id": "0663145d3c194178849c7494ce060d26",
       "version_major": 2,
       "version_minor": 0
      },
      "text/plain": [
       "HBox(children=(IntProgress(value=0, max=200), HTML(value='')))"
      ]
     },
     "metadata": {},
     "output_type": "display_data"
    },
    {
     "name": "stdout",
     "output_type": "stream",
     "text": [
      "\n",
      "Processing Class :  12  :  sci.crypt\n"
     ]
    },
    {
     "data": {
      "application/vnd.jupyter.widget-view+json": {
       "model_id": "f6b99bedbdbb4bbf8ac0b658f1722381",
       "version_major": 2,
       "version_minor": 0
      },
      "text/plain": [
       "HBox(children=(IntProgress(value=0, max=200), HTML(value='')))"
      ]
     },
     "metadata": {},
     "output_type": "display_data"
    },
    {
     "name": "stdout",
     "output_type": "stream",
     "text": [
      "\n",
      "Processing Class :  13  :  sci.electronics\n"
     ]
    },
    {
     "data": {
      "application/vnd.jupyter.widget-view+json": {
       "model_id": "867b3976c91345cf9f65406f2c2ee202",
       "version_major": 2,
       "version_minor": 0
      },
      "text/plain": [
       "HBox(children=(IntProgress(value=0, max=200), HTML(value='')))"
      ]
     },
     "metadata": {},
     "output_type": "display_data"
    },
    {
     "name": "stdout",
     "output_type": "stream",
     "text": [
      "\n",
      "Processing Class :  14  :  sci.med\n"
     ]
    },
    {
     "data": {
      "application/vnd.jupyter.widget-view+json": {
       "model_id": "3bb2bf9376834c399c9be0830dfdf6b0",
       "version_major": 2,
       "version_minor": 0
      },
      "text/plain": [
       "HBox(children=(IntProgress(value=0, max=200), HTML(value='')))"
      ]
     },
     "metadata": {},
     "output_type": "display_data"
    },
    {
     "name": "stdout",
     "output_type": "stream",
     "text": [
      "\n",
      "Processing Class :  15  :  sci.space\n"
     ]
    },
    {
     "data": {
      "application/vnd.jupyter.widget-view+json": {
       "model_id": "906c5a3e85704102a088b19023cbbbfe",
       "version_major": 2,
       "version_minor": 0
      },
      "text/plain": [
       "HBox(children=(IntProgress(value=0, max=200), HTML(value='')))"
      ]
     },
     "metadata": {},
     "output_type": "display_data"
    },
    {
     "name": "stdout",
     "output_type": "stream",
     "text": [
      "\n",
      "Processing Class :  16  :  soc.religion.christian\n"
     ]
    },
    {
     "data": {
      "application/vnd.jupyter.widget-view+json": {
       "model_id": "edefa51a29a946e080c3ba891298eaba",
       "version_major": 2,
       "version_minor": 0
      },
      "text/plain": [
       "HBox(children=(IntProgress(value=0, max=197), HTML(value='')))"
      ]
     },
     "metadata": {},
     "output_type": "display_data"
    },
    {
     "name": "stdout",
     "output_type": "stream",
     "text": [
      "\n",
      "Processing Class :  17  :  talk.politics.guns\n"
     ]
    },
    {
     "data": {
      "application/vnd.jupyter.widget-view+json": {
       "model_id": "63b02aa8efb74478bbe643ee8f96ce3c",
       "version_major": 2,
       "version_minor": 0
      },
      "text/plain": [
       "HBox(children=(IntProgress(value=0, max=200), HTML(value='')))"
      ]
     },
     "metadata": {},
     "output_type": "display_data"
    },
    {
     "name": "stdout",
     "output_type": "stream",
     "text": [
      "\n",
      "Processing Class :  18  :  talk.politics.mideast\n"
     ]
    },
    {
     "data": {
      "application/vnd.jupyter.widget-view+json": {
       "model_id": "afe02f1e46824b82a731215c64a80621",
       "version_major": 2,
       "version_minor": 0
      },
      "text/plain": [
       "HBox(children=(IntProgress(value=0, max=200), HTML(value='')))"
      ]
     },
     "metadata": {},
     "output_type": "display_data"
    },
    {
     "name": "stdout",
     "output_type": "stream",
     "text": [
      "\n",
      "Processing Class :  19  :  talk.politics.misc\n"
     ]
    },
    {
     "data": {
      "application/vnd.jupyter.widget-view+json": {
       "model_id": "c5f34131af3042af982f8d1b2585b5c2",
       "version_major": 2,
       "version_minor": 0
      },
      "text/plain": [
       "HBox(children=(IntProgress(value=0, max=200), HTML(value='')))"
      ]
     },
     "metadata": {},
     "output_type": "display_data"
    },
    {
     "name": "stdout",
     "output_type": "stream",
     "text": [
      "\n",
      "Processing Class :  20  :  talk.religion.misc\n"
     ]
    },
    {
     "data": {
      "application/vnd.jupyter.widget-view+json": {
       "model_id": "b11692f6fa26495f8ee7926734fdbb9c",
       "version_major": 2,
       "version_minor": 0
      },
      "text/plain": [
       "HBox(children=(IntProgress(value=0, max=200), HTML(value='')))"
      ]
     },
     "metadata": {},
     "output_type": "display_data"
    },
    {
     "name": "stdout",
     "output_type": "stream",
     "text": [
      "\n"
     ]
    }
   ],
   "source": [
    "# Testing\n",
    "\n",
    "print(\"Testing Data\")\n",
    "f2 = 0\n",
    "counter2 = 0\n",
    "for i in files_test:\n",
    "    f2+=1\n",
    "    print(\"Processing Class : \",f2,\" : \",i)\n",
    "    classes = i\n",
    "    file_no = 0\n",
    "    for file in tqdm_notebook(files_test[classes]):\n",
    "        file_no+=1\n",
    "        counter2+=1\n",
    "        y_test['Class'][counter2] = classes\n",
    "        words_in_file = get_words(file)\n",
    "        for word in words_in_file:\n",
    "            if word in vocabulary_sorted_train:\n",
    "                x_test[word][counter2]+=1\n"
   ]
  },
  {
   "cell_type": "code",
   "execution_count": 15,
   "metadata": {},
   "outputs": [],
   "source": [
    "# Combining the above Dataframes to get final Training Dataset\n",
    "\n",
    "dataset_train = pd.concat([x_train,y_train],axis = 1)\n",
    "dataset_train.columns = list(range(1,len(vocabulary_sorted_train)+1)) + ['Class']\n",
    "\n",
    "# Combining the above Dataframes to get final Testing Dataset\n",
    "dataset_test = pd.concat([x_test,y_test],axis = 1)\n",
    "dataset_test.columns = list(range(1,len(vocabulary_sorted_train)+1)) + ['Class']"
   ]
  },
  {
   "cell_type": "code",
   "execution_count": 16,
   "metadata": {},
   "outputs": [],
   "source": [
    "# Shuffling the dataset\n",
    "\n",
    "from sklearn.utils import shuffle\n",
    "data_train = dataset_train\n",
    "data_train= shuffle(data_train).reset_index(drop = True)\n",
    "\n",
    "data_test = dataset_test\n",
    "data_test = shuffle(data_test).reset_index(drop = True)"
   ]
  },
  {
   "cell_type": "code",
   "execution_count": 17,
   "metadata": {},
   "outputs": [],
   "source": [
    "# Splitting into X_train,X_test,Y_train,Y_test\n",
    "\n",
    "X_train = data_train.iloc[:,0:len(vocabulary_sorted_train)]\n",
    "Y_train = data_train['Class']\n",
    "\n",
    "X_test = data_test.iloc[:,0:len(vocabulary_sorted_train)]\n",
    "Y_test = data_test['Class']"
   ]
  },
  {
   "cell_type": "markdown",
   "metadata": {},
   "source": [
    "## Using Multinomial Naive Bayes Claassifier"
   ]
  },
  {
   "cell_type": "code",
   "execution_count": 18,
   "metadata": {},
   "outputs": [],
   "source": [
    "from sklearn.naive_bayes import MultinomialNB\n",
    "clf = MultinomialNB()\n",
    "clf.fit(X_train,Y_train)\n",
    "y_pred = clf.predict(X_test)"
   ]
  },
  {
   "cell_type": "code",
   "execution_count": 20,
   "metadata": {
    "scrolled": true
   },
   "outputs": [],
   "source": [
    "from sklearn.metrics import classification_report, confusion_matrix,accuracy_score"
   ]
  },
  {
   "cell_type": "code",
   "execution_count": 28,
   "metadata": {},
   "outputs": [
    {
     "name": "stdout",
     "output_type": "stream",
     "text": [
      "\u001b[1mAccuracy:  91.093 %\n"
     ]
    }
   ],
   "source": [
    "acc = accuracy_score(Y_test,y_pred).round(5)\n",
    "print('\\033[1m' + 'Accuracy: ',acc*100, '%')"
   ]
  },
  {
   "cell_type": "code",
   "execution_count": 22,
   "metadata": {},
   "outputs": [
    {
     "name": "stdout",
     "output_type": "stream",
     "text": [
      "                          precision    recall  f1-score   support\n",
      "\n",
      "             alt.atheism       0.80      0.84      0.82       200\n",
      "           comp.graphics       0.84      0.94      0.89       200\n",
      " comp.os.ms-windows.misc       0.95      0.96      0.96       200\n",
      "comp.sys.ibm.pc.hardware       0.94      0.94      0.94       200\n",
      "   comp.sys.mac.hardware       0.95      0.94      0.94       200\n",
      "          comp.windows.x       0.95      0.94      0.95       200\n",
      "            misc.forsale       0.87      0.97      0.92       200\n",
      "               rec.autos       0.97      0.91      0.94       200\n",
      "         rec.motorcycles       0.97      0.94      0.95       200\n",
      "      rec.sport.baseball       0.97      0.96      0.97       200\n",
      "        rec.sport.hockey       0.97      0.97      0.97       200\n",
      "               sci.crypt       0.97      0.94      0.96       200\n",
      "         sci.electronics       0.94      0.94      0.94       200\n",
      "                 sci.med       0.96      0.94      0.95       200\n",
      "               sci.space       0.94      0.94      0.94       200\n",
      "  soc.religion.christian       0.99      1.00      1.00       197\n",
      "      talk.politics.guns       0.82      0.90      0.86       200\n",
      "   talk.politics.mideast       0.89      0.91      0.90       200\n",
      "      talk.politics.misc       0.77      0.69      0.73       200\n",
      "      talk.religion.misc       0.72      0.63      0.67       200\n",
      "\n",
      "               micro avg       0.91      0.91      0.91      3997\n",
      "               macro avg       0.91      0.91      0.91      3997\n",
      "            weighted avg       0.91      0.91      0.91      3997\n",
      "\n"
     ]
    }
   ],
   "source": [
    "print(classification_report(Y_test,y_pred))"
   ]
  },
  {
   "cell_type": "code",
   "execution_count": 25,
   "metadata": {},
   "outputs": [
    {
     "name": "stdout",
     "output_type": "stream",
     "text": [
      "[[169   1   0   0   0   0   0   1   1   0   0   0   0   1   0   1   0   3\n",
      "    2  21]\n",
      " [  0 188   4   1   1   4   0   0   0   0   0   0   0   1   1   0   0   0\n",
      "    0   0]\n",
      " [  0   2 193   0   0   5   0   0   0   0   0   0   0   0   0   0   0   0\n",
      "    0   0]\n",
      " [  0   1   2 189   7   0   0   0   0   0   0   1   0   0   0   0   0   0\n",
      "    0   0]\n",
      " [  0   2   0   8 188   0   1   0   0   0   0   0   0   1   0   0   0   0\n",
      "    0   0]\n",
      " [  0   7   3   0   1 188   0   0   0   0   0   0   0   1   0   0   0   0\n",
      "    0   0]\n",
      " [  0   1   0   1   0   0 195   1   0   0   0   0   0   1   1   0   0   0\n",
      "    0   0]\n",
      " [  0   1   0   0   0   0   8 181   4   1   0   0   4   0   1   0   0   0\n",
      "    0   0]\n",
      " [  0   1   0   0   0   0   8   2 187   0   0   0   0   0   2   0   0   0\n",
      "    0   0]\n",
      " [  0   0   0   0   0   0   0   1   0 193   6   0   0   0   0   0   0   0\n",
      "    0   0]\n",
      " [  0   0   0   0   0   0   0   1   0   4 195   0   0   0   0   0   0   0\n",
      "    0   0]\n",
      " [  0   2   0   0   0   0   2   0   0   0   0 189   3   1   1   0   1   1\n",
      "    0   0]\n",
      " [  0   2   0   1   0   0   4   0   1   0   0   2 188   1   0   0   0   1\n",
      "    0   0]\n",
      " [  0   6   0   0   1   0   1   0   0   0   0   0   2 188   2   0   0   0\n",
      "    0   0]\n",
      " [  0   6   0   0   0   0   2   0   0   0   0   0   2   0 187   0   0   0\n",
      "    3   0]\n",
      " [  0   0   0   0   0   0   0   0   0   0   0   0   0   0   0 197   0   0\n",
      "    0   0]\n",
      " [  0   0   0   0   0   0   0   0   0   0   0   3   0   0   0   0 179   3\n",
      "   11   4]\n",
      " [  0   0   0   0   0   0   0   0   0   0   0   0   0   0   2   0   6 182\n",
      "   10   0]\n",
      " [  0   0   0   0   0   0   1   0   0   0   0   0   0   0   1   0  25   9\n",
      "  139  25]\n",
      " [ 41   3   1   0   0   0   2   0   0   0   0   0   0   0   1   0   6   5\n",
      "   15 126]]\n"
     ]
    }
   ],
   "source": [
    "print(confusion_matrix(Y_test,y_pred))"
   ]
  }
 ],
 "metadata": {
  "kernelspec": {
   "display_name": "Python 3",
   "language": "python",
   "name": "python3"
  },
  "language_info": {
   "codemirror_mode": {
    "name": "ipython",
    "version": 3
   },
   "file_extension": ".py",
   "mimetype": "text/x-python",
   "name": "python",
   "nbconvert_exporter": "python",
   "pygments_lexer": "ipython3",
   "version": "3.7.3"
  }
 },
 "nbformat": 4,
 "nbformat_minor": 2
}
